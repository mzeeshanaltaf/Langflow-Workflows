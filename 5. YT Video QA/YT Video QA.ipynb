{
 "cells": [
  {
   "cell_type": "code",
   "execution_count": 1,
   "id": "c44c230a-3b6e-44d8-95d7-c2b1df3a3aaf",
   "metadata": {},
   "outputs": [],
   "source": [
    "import requests\n",
    "import json"
   ]
  },
  {
   "cell_type": "code",
   "execution_count": 15,
   "id": "62cf3376-f092-486d-89f7-a8612b70cf49",
   "metadata": {},
   "outputs": [],
   "source": [
    "yt_video_url_upsert = \"https://www.youtube.com/watch?v=fXizBc03D7E\"\n",
    "yt_video_url_qa = \"https://www.youtube.com/watch?v=fXizBc03D7E\""
   ]
  },
  {
   "cell_type": "code",
   "execution_count": 12,
   "id": "a1ea3832-aac0-4cfd-846c-63cd053c2890",
   "metadata": {},
   "outputs": [],
   "source": [
    "url = \"https://mpl-langflow-domain.alfalivin.com/api/v1/run/b706254b-9ef5-47fe-a613-d13bd399caa2\"  # The complete API endpoint URL for this flow\n",
    "\n",
    "# Request payload configuration\n",
    "payload = {\n",
    "    \"input_value\": \"Summarize this video\",  # The input value to be processed by the flow\n",
    "    \"output_type\": \"chat\",  # Specifies the expected output format\n",
    "    \"input_type\": \"chat\", # Specifies the input format\n",
    "    \"tweaks\": {\n",
    "        \"AstraDB-MIF3a\": {\n",
    "        \"advanced_search_filter\":{\"video_url\":yt_video_url_qa}\n",
    "                }\n",
    "            }\n",
    "\n",
    "        }\n",
    "\n",
    "# Request headers\n",
    "headers = {\n",
    "    \"Content-Type\": \"application/json\"\n",
    "}\n",
    "\n",
    "try:\n",
    "    # Send API request\n",
    "    response = requests.request(\"POST\", url, json=payload, headers=headers)\n",
    "    response.raise_for_status()  # Raise exception for bad status codes\n",
    "\n",
    "    # Print response\n",
    "    # print(response.text)\n",
    "\n",
    "except requests.exceptions.RequestException as e:\n",
    "    print(f\"Error making API request: {e}\")\n",
    "except ValueError as e:\n",
    "    print(f\"Error parsing response: {e}\")"
   ]
  },
  {
   "cell_type": "code",
   "execution_count": 13,
   "id": "d54a849f-3fe7-4711-9e6d-1e41163888d8",
   "metadata": {},
   "outputs": [
    {
     "name": "stdout",
     "output_type": "stream",
     "text": [
      "The video discusses different types of artificial intelligence (AI) agents, which are entities that interact with an environment to achieve a goal. The video explains the following types of agents:\n",
      "\n",
      "1. **Simple Reflex Agent**: Reacts to the current situation without memory or understanding of history. It uses condition-action rules to determine its actions.\n",
      "2. **Model-Based Reflex Agent**: Similar to a simple reflex agent but has an internal model of the world, which it uses to track state over time. It still reacts to situations but has a better understanding of its environment.\n",
      "3. **Goal-Based Agent**: Uses its internal model to simulate future outcomes and achieve a specific goal. It considers different actions and chooses the one that helps it achieve its goal.\n",
      "4. **Utility-Based Agent**: Evaluates different actions based on their potential outcomes and chooses the best one. It requires an accurate utility function to make decisions.\n",
      "\n",
      "The video also explains the components of an AI agent, including:\n",
      "\n",
      "* **Environment**: The external world that the agent interacts with.\n",
      "* **Precepts**: The perceived input from the environment, measured through sensors.\n",
      "* **Internal Logic**: The agent's decision-making process, which uses condition-action rules or goals.\n",
      "* **Actuators**: The components that execute the agent's actions.\n",
      "\n",
      "Overall, the video provides an overview of the different types of AI agents, their characteristics, and how they make decisions to interact with their environment.\n"
     ]
    }
   ],
   "source": [
    "result = json.loads(response.text)\n",
    "output = result['outputs'][0]['outputs'][0]['results']['message']['data']['text']\n",
    "print(output)"
   ]
  },
  {
   "cell_type": "markdown",
   "id": "c0816c28-4bd5-4c91-9b80-bf123fbfbe72",
   "metadata": {},
   "source": [
    "## Upsert"
   ]
  },
  {
   "cell_type": "code",
   "execution_count": 11,
   "id": "9849c873-bd3c-45e4-a29c-6c71e34e95e0",
   "metadata": {},
   "outputs": [
    {
     "name": "stdout",
     "output_type": "stream",
     "text": [
      "{\"session_id\":\"8a7b078a-2730-442b-8198-7872d7cf77f2\",\"outputs\":[{\"inputs\":{},\"outputs\":[{\"results\":{\"message\":{\"text_key\":\"text\",\"data\":{\"timestamp\":\"2025-04-29T11:24:11+00:00\",\"sender\":\"Machine\",\"sender_name\":\"AI\",\"session_id\":\"8a7b078a-2730-442b-8198-7872d7cf77f2\",\"text\":\"\",\"files\":[],\"error\":false,\"edit\":false,\"properties\":{\"text_color\":\"\",\"background_color\":\"\",\"edited\":false,\"source\":{\"id\":\"AstraDB-PN3zq\",\"display_name\":\"Astra DB\",\"source\":\"Astra DB\"},\"icon\":\"AstraDB\",\"allow_markdown\":false,\"positive_feedback\":null,\"state\":\"complete\",\"targets\":[]},\"category\":\"message\",\"content_blocks\":[],\"id\":\"2226e810-a27b-462e-a96b-76d0f53914b3\",\"flow_id\":\"8a7b078a-2730-442b-8198-7872d7cf77f2\"},\"default_value\":\"\",\"text\":\"\",\"sender\":\"Machine\",\"sender_name\":\"AI\",\"files\":[],\"session_id\":\"8a7b078a-2730-442b-8198-7872d7cf77f2\",\"timestamp\":\"2025-04-29T11:24:11+00:00\",\"flow_id\":\"8a7b078a-2730-442b-8198-7872d7cf77f2\",\"error\":false,\"edit\":false,\"properties\":{\"text_color\":\"\",\"background_color\":\"\",\"edited\":false,\"source\":{\"id\":\"AstraDB-PN3zq\",\"display_name\":\"Astra DB\",\"source\":\"Astra DB\"},\"icon\":\"AstraDB\",\"allow_markdown\":false,\"positive_feedback\":null,\"state\":\"complete\",\"targets\":[]},\"category\":\"message\",\"content_blocks\":[]}},\"artifacts\":{\"message\":\"\",\"sender\":\"Machine\",\"sender_name\":\"AI\",\"files\":[],\"type\":\"object\"},\"outputs\":{\"message\":{\"message\":\"\",\"type\":\"text\"}},\"logs\":{\"message\":[]},\"messages\":[],\"timedelta\":null,\"duration\":null,\"component_display_name\":\"Chat Output\",\"component_id\":\"ChatOutput-geYIm\",\"used_frozen_result\":false}]}]}\n"
     ]
    }
   ],
   "source": [
    "url = \"https://mpl-langflow-domain.alfalivin.com/api/v1/run/8a7b078a-2730-442b-8198-7872d7cf77f2\"  # The complete API endpoint URL for this flow\n",
    "\n",
    "# Request payload configuration\n",
    "payload = {\n",
    "    # \"input_value\": \"Hello\",  # The input value to be processed by the flow\n",
    "    \"output_type\": \"text\",  # Specifies the expected output format\n",
    "    \"input_type\": \"text\", # Specifies the input format\n",
    "    \"tweaks\": {\n",
    "        \"TextInput-hVLGq\": {\n",
    "        \"input_value\":yt_video_url_upsert\n",
    "        \t}\n",
    "    }\n",
    "}\n",
    "\n",
    "# Request headers\n",
    "headers = {\n",
    "    \"Content-Type\": \"application/json\"\n",
    "}\n",
    "\n",
    "try:\n",
    "    # Send API request\n",
    "    response = requests.request(\"POST\", url, json=payload, headers=headers)\n",
    "    response.raise_for_status()  # Raise exception for bad status codes\n",
    "\n",
    "    # Print response\n",
    "    print(response.text)\n",
    "\n",
    "except requests.exceptions.RequestException as e:\n",
    "    print(f\"Error making API request: {e}\")\n",
    "except ValueError as e:\n",
    "    print(f\"Error parsing response: {e}\")\n",
    "    "
   ]
  },
  {
   "cell_type": "code",
   "execution_count": null,
   "id": "83874e02-696f-444a-b2ad-cdd68a5af0ea",
   "metadata": {},
   "outputs": [],
   "source": []
  },
  {
   "cell_type": "code",
   "execution_count": null,
   "id": "30d06765-9213-48bc-ba84-027085914a14",
   "metadata": {},
   "outputs": [],
   "source": []
  },
  {
   "cell_type": "code",
   "execution_count": null,
   "id": "74d690ca-98bc-4a97-a292-344215b9c77d",
   "metadata": {},
   "outputs": [],
   "source": []
  },
  {
   "cell_type": "code",
   "execution_count": null,
   "id": "a840b6e8-d412-482e-acc9-365f591ee62c",
   "metadata": {},
   "outputs": [],
   "source": []
  },
  {
   "cell_type": "code",
   "execution_count": null,
   "id": "cc0a8228-a0e0-4e96-9df2-199b906b6482",
   "metadata": {},
   "outputs": [],
   "source": []
  },
  {
   "cell_type": "code",
   "execution_count": null,
   "id": "aba7e538-e520-463e-945d-b600f2867b31",
   "metadata": {},
   "outputs": [],
   "source": []
  }
 ],
 "metadata": {
  "kernelspec": {
   "display_name": "Python 3 (ipykernel)",
   "language": "python",
   "name": "python3"
  },
  "language_info": {
   "codemirror_mode": {
    "name": "ipython",
    "version": 3
   },
   "file_extension": ".py",
   "mimetype": "text/x-python",
   "name": "python",
   "nbconvert_exporter": "python",
   "pygments_lexer": "ipython3",
   "version": "3.12.7"
  }
 },
 "nbformat": 4,
 "nbformat_minor": 5
}
